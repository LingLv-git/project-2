{
 "cells": [
  {
   "cell_type": "code",
   "execution_count": 9,
   "id": "cb5eabd3",
   "metadata": {},
   "outputs": [],
   "source": [
    "from bs4 import BeautifulSoup\n",
    "import requests\n"
   ]
  },
  {
   "cell_type": "code",
   "execution_count": 10,
   "id": "e4c81afc",
   "metadata": {},
   "outputs": [
    {
     "name": "stdout",
     "output_type": "stream",
     "text": [
      "<Response [200]>\n"
     ]
    }
   ],
   "source": [
    "headers = {'User-Agent':'Mozilla/5.0 (Macintosh; Intel Mac OS X 10_11_2) AppleWebKit/601.3.9 (KHTML, like Gecko) Version/9.0.2 Safari/601.3.9'}\n",
    "url='https://www.yelp.com/search?find_desc=Restaurants&find_loc=Georgia%20Tech%2C%20Atlanta%2C%20GA&ns=1&l=g%3A-84.41276550292969%2C33.76816006007425%2C-84.38718795776367%2C33.78956253387451&start=160'\n",
    "response=requests.get(url,headers=headers)\n",
    "print(response)"
   ]
  },
  {
   "cell_type": "code",
   "execution_count": 11,
   "id": "8ba1f345",
   "metadata": {},
   "outputs": [],
   "source": [
    "soup=BeautifulSoup(response.content,'lxml')"
   ]
  },
  {
   "cell_type": "code",
   "execution_count": 14,
   "id": "d0eba9b2",
   "metadata": {},
   "outputs": [
    {
     "name": "stdout",
     "output_type": "stream",
     "text": [
      "Moe’s Southwest Grill\n",
      "\n",
      "Firehouse Subs\n",
      "63\n",
      "3.5 star rating\n",
      "\n",
      "161. Cafe Adison\n",
      "\n",
      "162. Waffle House\n",
      "\n",
      "163. Wild Bean Cafe\n",
      "\n",
      "164. Club Room\n",
      "\n",
      "165. The Krystal Company\n",
      "\n",
      "166. Papa John’s Pizza\n",
      "\n",
      "167. Brittain Dining Hall\n",
      "\n",
      "168. Jimmy’s\n",
      "\n",
      "169. Papa John’s Pizza\n",
      "\n"
     ]
    }
   ],
   "source": [
    "for item in soup.select('[class*=container]'):\n",
    "    try:\n",
    "        #print(item)\n",
    "        if item.find('h4'):\n",
    "            #name = item.find('h4').get_text()\n",
    "            print(item.find('h4').get_text())\n",
    "            print(item.select('[class*=reviewCount]')[0].get_text())\n",
    "            print(item.select('[aria-label*=rating]')[0]['aria-label'])\n",
    "            print(item.select('[class*=secondaryAttributes]')[0].get_text())\n",
    "            print(item.select('[class*=priceRange]')[0].get_text())\n",
    "            print(item.select('[class*=priceCategory]')[0].get_text())\n",
    "            print('------------------')\n",
    "\n",
    "\n",
    "    except Exception as e:\n",
    "        #raise e\n",
    "        print('')"
   ]
  },
  {
   "cell_type": "code",
   "execution_count": null,
   "id": "48fd459a",
   "metadata": {},
   "outputs": [],
   "source": []
  }
 ],
 "metadata": {
  "kernelspec": {
   "display_name": "Python 3",
   "language": "python",
   "name": "python3"
  },
  "language_info": {
   "codemirror_mode": {
    "name": "ipython",
    "version": 3
   },
   "file_extension": ".py",
   "mimetype": "text/x-python",
   "name": "python",
   "nbconvert_exporter": "python",
   "pygments_lexer": "ipython3",
   "version": "3.8.8"
  }
 },
 "nbformat": 4,
 "nbformat_minor": 5
}
