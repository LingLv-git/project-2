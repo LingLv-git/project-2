{
 "cells": [
  {
   "cell_type": "code",
   "execution_count": 96,
   "id": "1cca9a71",
   "metadata": {},
   "outputs": [
    {
     "data": {
      "application/javascript": [
       "\n",
       "            setTimeout(function() {\n",
       "                var nbb_cell_id = 96;\n",
       "                var nbb_unformatted_code = \"from bs4 import BeautifulSoup\\nimport numpy as np\\nimport pandas as pd\\nimport requests\\nfrom splinter import Browser\\nfrom webdriver_manager.chrome import ChromeDriverManager\\n%load_ext nb_black\";\n",
       "                var nbb_formatted_code = \"from bs4 import BeautifulSoup\\nimport numpy as np\\nimport pandas as pd\\nimport requests\\nfrom splinter import Browser\\nfrom webdriver_manager.chrome import ChromeDriverManager\\n\\n%load_ext nb_black\";\n",
       "                var nbb_cells = Jupyter.notebook.get_cells();\n",
       "                for (var i = 0; i < nbb_cells.length; ++i) {\n",
       "                    if (nbb_cells[i].input_prompt_number == nbb_cell_id) {\n",
       "                        if (nbb_cells[i].get_text() == nbb_unformatted_code) {\n",
       "                             nbb_cells[i].set_text(nbb_formatted_code);\n",
       "                        }\n",
       "                        break;\n",
       "                    }\n",
       "                }\n",
       "            }, 500);\n",
       "            "
      ],
      "text/plain": [
       "<IPython.core.display.Javascript object>"
      ]
     },
     "metadata": {},
     "output_type": "display_data"
    }
   ],
   "source": [
    "from bs4 import BeautifulSoup\n",
    "import pandas as pd\n",
    "import requests\n",
    "from splinter import Browser\n",
    "from webdriver_manager.chrome import ChromeDriverManager\n",
    "\n",
    "%load_ext nb_black"
   ]
  },
  {
   "cell_type": "code",
   "execution_count": 2,
   "id": "245280e6",
   "metadata": {},
   "outputs": [
    {
     "name": "stderr",
     "output_type": "stream",
     "text": [
      "\n",
      "\n",
      "====== WebDriver manager ======\n",
      "Current google-chrome version is 93.0.4577\n",
      "Get LATEST driver version for 93.0.4577\n",
      "Driver [/Volumes/UsersHome/linglv/.wdm/drivers/chromedriver/mac64/93.0.4577.63/chromedriver] found in cache\n"
     ]
    }
   ],
   "source": [
    "executable_path = {'executable_path': ChromeDriverManager().install()}\n",
    "browser = Browser('chrome', **executable_path, headless=False)"
   ]
  },
  {
   "cell_type": "code",
   "execution_count": 87,
   "id": "dc2b4818",
   "metadata": {},
   "outputs": [],
   "source": [
    "url = 'https://www.yelp.com/search?find_desc=Restaurants&find_loc=Georgia%20Tech%2C%20Atlanta%2C%20GA&ns=1&l=g%3A-84.41276550292969%2C33.76816006007425%2C-84.38718795776367%2C33.78956253387451'\n",
    "browser.visit(url)\n",
    "html = browser.html\n",
    "soup = BeautifulSoup(html, 'html.parser')"
   ]
  },
  {
   "cell_type": "code",
   "execution_count": 134,
   "id": "116fbe2e",
   "metadata": {},
   "outputs": [
    {
     "name": "stdout",
     "output_type": "stream",
     "text": [
      "end of the list\n"
     ]
    },
    {
     "data": {
      "application/javascript": [
       "\n",
       "            setTimeout(function() {\n",
       "                var nbb_cell_id = 134;\n",
       "                var nbb_unformatted_code = \"import time\\nresult = []\\nwhile True:\\n    eles = soup.find_all(\\n        \\\"div\\\", class_=[\\\"container__09f24__sxa9-\\\", \\\"hoverable__09f24__3HkY2\\\"]\\n    )\\n    for ele in eles:\\n        name = ele.find_all(\\\"div\\\", class_=\\\"businessName__09f24__3Ml2X\\\")[0].text\\n        reviewer = np.nan\\n        price = np.nan\\n        restauran_type = np.nan\\n        star = np.nan\\n\\n        try:\\n            reviewer = ele.find_all(\\n                \\\"span\\\", class_=\\\"reviewCount__09f24__3GsGY css-e81eai\\\"\\n            )[0].text\\n        except:\\n            pass\\n\\n        try:\\n            price = ele.find_all(\\\"span\\\", class_=\\\"priceRange__09f24__2GspP css-e81eai\\\")[\\n                0\\n            ].text\\n        except:\\n            pass\\n\\n        try:\\n            types = ele.find_all(\\\"p\\\", class_=[\\\"text__09f24__2NHRu\\\", \\\"css-1hx6l2b\\\"])\\n            l = len(types)\\n            for i in l:\\n                restauran_type.append(types[i])\\n        except:\\n            pass\\n\\n        try:\\n            star = ele.find_all(\\\"div\\\", class_=\\\"i-stars__09f24___sZu0\\\")[0][\\\"aria-label\\\"]\\n        except:\\n            pass\\n        result.append({\\n            'name': name,\\n            'reviewer': reviewer,\\n            'price': price,\\n            'restauran_type': restauran_type,\\n            'star': star\\n        })\\n    try:\\n        time.sleep(1)\\n        browser.find_by_css(\\\".next-link.navigation-button__09f24__1EzzD.css-166la90\\\").click()\\n    except:\\n        print('end of the list')\\n        break\";\n",
       "                var nbb_formatted_code = \"import time\\n\\nresult = []\\nwhile True:\\n    eles = soup.find_all(\\n        \\\"div\\\", class_=[\\\"container__09f24__sxa9-\\\", \\\"hoverable__09f24__3HkY2\\\"]\\n    )\\n    for ele in eles:\\n        name = ele.find_all(\\\"div\\\", class_=\\\"businessName__09f24__3Ml2X\\\")[0].text\\n        reviewer = np.nan\\n        price = np.nan\\n        restauran_type = np.nan\\n        star = np.nan\\n\\n        try:\\n            reviewer = ele.find_all(\\n                \\\"span\\\", class_=\\\"reviewCount__09f24__3GsGY css-e81eai\\\"\\n            )[0].text\\n        except:\\n            pass\\n\\n        try:\\n            price = ele.find_all(\\\"span\\\", class_=\\\"priceRange__09f24__2GspP css-e81eai\\\")[\\n                0\\n            ].text\\n        except:\\n            pass\\n\\n        try:\\n            types = ele.find_all(\\\"p\\\", class_=[\\\"text__09f24__2NHRu\\\", \\\"css-1hx6l2b\\\"])\\n            l = len(types)\\n            for i in l:\\n                restauran_type.append(types[i])\\n        except:\\n            pass\\n\\n        try:\\n            star = ele.find_all(\\\"div\\\", class_=\\\"i-stars__09f24___sZu0\\\")[0][\\\"aria-label\\\"]\\n        except:\\n            pass\\n        result.append(\\n            {\\n                \\\"name\\\": name,\\n                \\\"reviewer\\\": reviewer,\\n                \\\"price\\\": price,\\n                \\\"restauran_type\\\": restauran_type,\\n                \\\"star\\\": star,\\n            }\\n        )\\n    try:\\n        time.sleep(1)\\n        browser.find_by_css(\\n            \\\".next-link.navigation-button__09f24__1EzzD.css-166la90\\\"\\n        ).click()\\n    except:\\n        print(\\\"end of the list\\\")\\n        break\";\n",
       "                var nbb_cells = Jupyter.notebook.get_cells();\n",
       "                for (var i = 0; i < nbb_cells.length; ++i) {\n",
       "                    if (nbb_cells[i].input_prompt_number == nbb_cell_id) {\n",
       "                        if (nbb_cells[i].get_text() == nbb_unformatted_code) {\n",
       "                             nbb_cells[i].set_text(nbb_formatted_code);\n",
       "                        }\n",
       "                        break;\n",
       "                    }\n",
       "                }\n",
       "            }, 500);\n",
       "            "
      ],
      "text/plain": [
       "<IPython.core.display.Javascript object>"
      ]
     },
     "metadata": {},
     "output_type": "display_data"
    }
   ],
   "source": [
    "import time\n",
    "result = []\n",
    "while True:\n",
    "    eles = soup.find_all(\n",
    "        \"div\", class_=[\"container__09f24__sxa9-\", \"hoverable__09f24__3HkY2\"]\n",
    "    )\n",
    "    for ele in eles:\n",
    "        name = ele.find_all(\"div\", class_=\"businessName__09f24__3Ml2X\")[0].text\n",
    "        reviewer = None\n",
    "        price = None\n",
    "        restauran_type = None\n",
    "        star = None\n",
    "\n",
    "        try:\n",
    "            reviewer = ele.find_all(\n",
    "                \"span\", class_=\"reviewCount__09f24__3GsGY css-e81eai\"\n",
    "            )[0].text\n",
    "        except:\n",
    "            pass\n",
    "\n",
    "        try:\n",
    "            price = ele.find_all(\"span\", class_=\"priceRange__09f24__2GspP css-e81eai\")[\n",
    "                0\n",
    "            ].text\n",
    "        except:\n",
    "            pass\n",
    "\n",
    "        try:\n",
    "            types = ele.find_all(\"p\", class_=[\"text__09f24__2NHRu\", \"css-1hx6l2b\"])\n",
    "            l = len(types)\n",
    "            for i in l:\n",
    "                restauran_type.append(types[i])\n",
    "        except:\n",
    "            pass\n",
    "\n",
    "        try:\n",
    "            star = ele.find_all(\"div\", class_=\"i-stars__09f24___sZu0\")[0][\"aria-label\"]\n",
    "        except:\n",
    "            pass\n",
    "        result.append({\n",
    "            'name': name,\n",
    "            'reviewer': reviewer,\n",
    "            'price': price,\n",
    "            'restauran_type': restauran_type,\n",
    "            'star': star\n",
    "        })\n",
    "    try:\n",
    "        time.sleep(1)\n",
    "        browser.find_by_css(\".next-link.navigation-button__09f24__1EzzD.css-166la90\").click()\n",
    "    except:\n",
    "        print('end of the list')\n",
    "        break\n"
   ]
  },
  {
   "cell_type": "code",
   "execution_count": null,
   "id": "20db07d7",
   "metadata": {},
   "outputs": [],
   "source": []
  }
 ],
 "metadata": {
  "kernelspec": {
   "display_name": "Python 3",
   "language": "python",
   "name": "python3"
  },
  "language_info": {
   "codemirror_mode": {
    "name": "ipython",
    "version": 3
   },
   "file_extension": ".py",
   "mimetype": "text/x-python",
   "name": "python",
   "nbconvert_exporter": "python",
   "pygments_lexer": "ipython3",
   "version": "3.8.2"
  }
 },
 "nbformat": 4,
 "nbformat_minor": 5
}
