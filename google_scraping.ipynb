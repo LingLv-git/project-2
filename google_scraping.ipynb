{
 "cells": [
  {
   "cell_type": "code",
   "execution_count": null,
   "metadata": {},
   "outputs": [],
   "source": [
    "from selenium import webdriver\n",
    "from selenium.webdriver.common.by import By\n",
    "from selenium.webdriver.support.ui import WebDriverWait\n",
    "from selenium.webdriver.support import expected_conditions as EC\n",
    "from selenium.common.exceptions import TimeoutException\n",
    "import pandas as pd\n",
    "import requests\n",
    "from selenium.webdriver.common.desired_capabilities import DesiredCapabilities\n",
    "from selenium.webdriver.common.action_chains import ActionChains\n",
    "from selenium.common.exceptions import NoSuchElementException\n",
    "import time\n"
   ]
  },
  {
   "cell_type": "code",
   "execution_count": null,
   "metadata": {},
   "outputs": [],
   "source": [
    "chrome = webdriver.Chrome(\"C:\\chromedriver\\chromedriver.exe\")\n",
    "webdriver = chrome"
   ]
  },
  {
   "cell_type": "code",
   "execution_count": null,
   "metadata": {},
   "outputs": [],
   "source": [
    "webdriver.get('https://www.google.com/maps/search/Restaurants/@33.8838909,-84.3359755,13z/data=!3m1!4b1')"
   ]
  },
  {
   "cell_type": "code",
   "execution_count": null,
   "metadata": {},
   "outputs": [],
   "source": [
    "Reviewer =[]\n",
    "ReviewDate = []\n",
    "ReviewRating =[]\n",
    "ReviewDescription = []\n",
    "TotalReviewsByUser = []\n",
    "webdriver_obj = []\n",
    "thisreview =[]\n",
    "print('!!!')\n",
    "time.sleep(3)\n",
    "last_len = 0"
   ]
  },
  {
   "cell_type": "code",
   "execution_count": null,
   "metadata": {},
   "outputs": [],
   "source": [
    "def  get_reviews(thisreview):\n",
    "    global last_len\n",
    "    print(\"Don't Stop\")\n",
    "    for webdriver_obj in thisreview.find_elements_by_class_name(\"WMbnJf\"):\n",
    "        Name = webdriver_obj.find_element_by_class_name(\"Y0uHMb\")\n",
    "        Reviewer.append(Name.text)\n",
    "        try:\n",
    "            ReviewByuser = webdriver_obj.find_element_by_class_name(\"A503be\")\n",
    "            TotalReviewsByUser.append(ReviewByuser.text)\n",
    "        except NoSuchElementException:\n",
    "            TotalReviewsByUser.append(\"\")\n",
    "        star = webdriver_obj.find_element_by_class_name(\"fTKmHE99XE4__star\")\n",
    "        ReviewStar =star.get_attribute(\"aria-label\")\n",
    "        ReviewRating.append(ReviewStar)\n",
    "        Date = webdriver_obj.find_element_by_class_name(\"dehysf\")\n",
    "        ReviewDate.append(Date.text)\n",
    "        Body = webdriver_obj.find_element_by_class_name('Jtu6Td')\n",
    "        try:\n",
    "            webdriver_obj.find_element_by_class_name('review-snippet').click()\n",
    "            s_32B = webdriver_obj.find_element_by_class_name('review-full-text')\n",
    "            ReviewDescription.append(s_32B.text)\n",
    "        except NoSuchElementException:\n",
    "            ReviewDescription.append(Body.text)\n",
    "        print(\"Yes..\")\n",
    "        element = webdriver_obj.find_element_by_class_name('PuaHbe')\n",
    "        webdriver.execute_script(\"arguments[0].scrollIntoView();\", element)\n",
    "    print(\"ah!..Go\")\n",
    "    time.sleep(3)\n",
    "    reviews = webdriver.find_elements_by_class_name(\"gws-localreviews__general-reviews-block\")\n",
    "    r_len = len(reviews)\n",
    "    if r_len > last_len:\n",
    "        last_len = r_len\n",
    "        get_reviews(reviews[r_len-1])"
   ]
  },
  {
   "cell_type": "code",
   "execution_count": null,
   "metadata": {},
   "outputs": [],
   "source": [
    "reviews = webdriver.find_elements_by_class_name(\"gws-localreviews__general-reviews-block\")\n",
    "last_len = len(reviews)\n",
    "get_reviews(reviews[last_len-1])"
   ]
  },
  {
   "cell_type": "code",
   "execution_count": null,
   "metadata": {},
   "outputs": [],
   "source": [
    "data = pd.DataFrame ( { 'Reviewer' : Reviewer, 'TotalReviewsByUser': TotalReviewsByUser,\n",
    "                               'ReviewRating':ReviewRating,'ReviewDate':ReviewDate,\n",
    "                               'ReviewDescription':ReviewDescription})"
   ]
  }
 ],
 "metadata": {
  "kernelspec": {
   "display_name": "Python 3",
   "language": "python",
   "name": "python3"
  },
  "language_info": {
   "codemirror_mode": {
    "name": "ipython",
    "version": 3
   },
   "file_extension": ".py",
   "mimetype": "text/x-python",
   "name": "python",
   "nbconvert_exporter": "python",
   "pygments_lexer": "ipython3",
   "version": "3.8.2"
  }
 },
 "nbformat": 4,
 "nbformat_minor": 4
}
