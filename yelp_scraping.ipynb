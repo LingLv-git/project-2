{
 "cells": [
  {
   "cell_type": "code",
   "execution_count": 49,
   "id": "b26dc96a",
   "metadata": {},
   "outputs": [],
   "source": [
    "from bs4 import BeautifulSoup\n",
    "import requests\n"
   ]
  },
  {
   "cell_type": "code",
   "execution_count": null,
   "id": "158b1ce2",
   "metadata": {},
   "outputs": [],
   "source": [
    "headers = {'User-Agent':'Mozilla/5.0 (Macintosh; Intel Mac OS X 10_11_2) AppleWebKit/601.3.9 (KHTML, like Gecko) Version/9.0.2 Safari/601.3.9'}\n",
    "url='https://www.yelp.com/search?find_desc=Restaurants&find_loc=Georgia%20Tech%2C%20Atlanta%2C%20GA&l=g%3A-84.41276550292969%2C33.76816006007425%2C-84.38718795776367%2C33.78956253387451'\n",
    "response=requests.get(url,headers=headers)\n",
    "print(response)"
   ]
  },
  {
   "cell_type": "code",
   "execution_count": 34,
   "id": "56c23364",
   "metadata": {},
   "outputs": [],
   "source": [
    "soup=BeautifulSoup(response.content,'lxml')"
   ]
  },
  {
   "cell_type": "code",
   "execution_count": 48,
   "id": "937f9f78",
   "metadata": {},
   "outputs": [
    {
     "name": "stdout",
     "output_type": "stream",
     "text": [
      "name Moe’s Southwest Grill\n",
      "\n",
      "name Firehouse Subs\n",
      "review count 63\n",
      "star rating 3.5 star rating\n",
      "\n",
      "name 1. There on Fifth\n",
      "review count 39\n",
      "star rating 5 star rating\n",
      "\n",
      "name 2. Food Terminal - Atlanta\n",
      "review count 172\n",
      "star rating 4.5 star rating\n",
      "price range $$\n",
      "categoy MalaysianPan AsianChinese$$\n",
      "------------------\n",
      "name 3. Rock Steady - Atlanta\n",
      "review count 196\n",
      "star rating 4 star rating\n",
      "price range $$\n",
      "categoy CaribbeanBars$$\n",
      "------------------\n",
      "name 4. The Optimist\n",
      "review count 1762\n",
      "star rating 4.5 star rating\n",
      "price range $$$\n",
      "categoy SeafoodCocktail BarsMusic Venues$$$Westside / Home Park\n",
      "------------------\n",
      "name 5. Choong Man Chicken - Georgia Tech\n",
      "review count 51\n",
      "star rating 4 star rating\n",
      "\n",
      "name 6. Velvet Taco\n",
      "review count 51\n",
      "star rating 4.5 star rating\n",
      "price range $$\n",
      "categoy American (New)TacosVegetarian$$Westside / Home Park\n",
      "------------------\n",
      "name 7. Pijiu Belly\n",
      "review count 441\n",
      "star rating 4 star rating\n",
      "price range $$\n",
      "categoy BurgersPubsAsian Fusion$$Westside / Home Park\n",
      "------------------\n",
      "name 8. Forza Storico\n",
      "review count 221\n",
      "star rating 4 star rating\n",
      "price range $$\n",
      "categoy ItalianCocktail BarsPasta Shops$$Westside / Home Park\n",
      "------------------\n",
      "name 9. McCray’s Tavern Midtown\n",
      "review count 174\n",
      "star rating 4 star rating\n",
      "price range $$\n",
      "categoy Venues & Event SpacesSports BarsAmerican (Traditional)$$Midtown\n",
      "------------------\n",
      "name 10. bartaco\n",
      "review count 1302\n",
      "star rating 4 star rating\n",
      "price range $$\n",
      "categoy MexicanTapas Bars$$\n",
      "------------------\n",
      "name Forza Storico\n",
      "review count 221\n",
      "star rating 4 star rating\n",
      "\n"
     ]
    }
   ],
   "source": [
    "for item in soup.select('[class*=container]'):\n",
    "    try:\n",
    "        #print(item)\n",
    "        if item.find('h4'):\n",
    "            #name = item.find('h4').get_text()\n",
    "            print(f\"name {item.find('h4').get_text()}\")\n",
    "            print(f\"review count {item.select('[class*=reviewCount]')[0].get_text()}\")\n",
    "            print(f\"star rating {item.select('[aria-label*=rating]')[0]['aria-label']}\")\n",
    "            print(f\"price range {item.select('[class*=priceRange]')[0].get_text()}\")\n",
    "            print(f\"categoy {item.select('[class*=priceCategory]')[0].get_text()}\")\n",
    "            print('------------------')\n",
    "\n",
    "\n",
    "    except Exception as e:\n",
    "        #raise e\n",
    "        print('')"
   ]
  },
  {
   "cell_type": "code",
   "execution_count": null,
   "id": "6d5a4c85",
   "metadata": {},
   "outputs": [],
   "source": []
  }
 ],
 "metadata": {
  "kernelspec": {
   "display_name": "Python 3",
   "language": "python",
   "name": "python3"
  },
  "language_info": {
   "codemirror_mode": {
    "name": "ipython",
    "version": 3
   },
   "file_extension": ".py",
   "mimetype": "text/x-python",
   "name": "python",
   "nbconvert_exporter": "python",
   "pygments_lexer": "ipython3",
   "version": "3.8.8"
  }
 },
 "nbformat": 4,
 "nbformat_minor": 5
}
