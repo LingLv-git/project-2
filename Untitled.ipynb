{
 "cells": [
  {
   "cell_type": "code",
   "execution_count": 2,
   "id": "12efd8be",
   "metadata": {},
   "outputs": [
    {
     "data": {
      "application/javascript": [
       "\n",
       "            setTimeout(function() {\n",
       "                var nbb_cell_id = 2;\n",
       "                var nbb_unformatted_code = \"from bs4 import BeautifulSoup\\nimport pandas as pd\\nimport requests\\nfrom splinter import Browser\\nfrom webdriver_manager.chrome import ChromeDriverManager\\n\\n%load_ext nb_black\";\n",
       "                var nbb_formatted_code = \"from bs4 import BeautifulSoup\\nimport pandas as pd\\nimport requests\\nfrom splinter import Browser\\nfrom webdriver_manager.chrome import ChromeDriverManager\\n\\n%load_ext nb_black\";\n",
       "                var nbb_cells = Jupyter.notebook.get_cells();\n",
       "                for (var i = 0; i < nbb_cells.length; ++i) {\n",
       "                    if (nbb_cells[i].input_prompt_number == nbb_cell_id) {\n",
       "                        if (nbb_cells[i].get_text() == nbb_unformatted_code) {\n",
       "                             nbb_cells[i].set_text(nbb_formatted_code);\n",
       "                        }\n",
       "                        break;\n",
       "                    }\n",
       "                }\n",
       "            }, 500);\n",
       "            "
      ],
      "text/plain": [
       "<IPython.core.display.Javascript object>"
      ]
     },
     "metadata": {},
     "output_type": "display_data"
    }
   ],
   "source": [
    "from bs4 import BeautifulSoup\n",
    "import pandas as pd\n",
    "import requests\n",
    "from splinter import Browser\n",
    "from webdriver_manager.chrome import ChromeDriverManager\n",
    "\n",
    "%load_ext nb_black"
   ]
  },
  {
   "cell_type": "code",
   "execution_count": 3,
   "id": "d68f7469",
   "metadata": {},
   "outputs": [
    {
     "name": "stderr",
     "output_type": "stream",
     "text": [
      "\n",
      "\n",
      "====== WebDriver manager ======\n",
      "Current google-chrome version is 93.0.4577\n",
      "Get LATEST driver version for 93.0.4577\n",
      "Get LATEST driver version for 93.0.4577\n",
      "Trying to download new driver from https://chromedriver.storage.googleapis.com/93.0.4577.63/chromedriver_win32.zip\n",
      "Driver has been saved in cache [C:\\Users\\ohkyu\\.wdm\\drivers\\chromedriver\\win32\\93.0.4577.63]\n"
     ]
    },
    {
     "data": {
      "application/javascript": [
       "\n",
       "            setTimeout(function() {\n",
       "                var nbb_cell_id = 3;\n",
       "                var nbb_unformatted_code = \"executable_path = {'executable_path': ChromeDriverManager().install()}\\nbrowser = Browser('chrome', **executable_path, headless=False)\";\n",
       "                var nbb_formatted_code = \"executable_path = {\\\"executable_path\\\": ChromeDriverManager().install()}\\nbrowser = Browser(\\\"chrome\\\", **executable_path, headless=False)\";\n",
       "                var nbb_cells = Jupyter.notebook.get_cells();\n",
       "                for (var i = 0; i < nbb_cells.length; ++i) {\n",
       "                    if (nbb_cells[i].input_prompt_number == nbb_cell_id) {\n",
       "                        if (nbb_cells[i].get_text() == nbb_unformatted_code) {\n",
       "                             nbb_cells[i].set_text(nbb_formatted_code);\n",
       "                        }\n",
       "                        break;\n",
       "                    }\n",
       "                }\n",
       "            }, 500);\n",
       "            "
      ],
      "text/plain": [
       "<IPython.core.display.Javascript object>"
      ]
     },
     "metadata": {},
     "output_type": "display_data"
    }
   ],
   "source": [
    "executable_path = {\"executable_path\": ChromeDriverManager().install()}\n",
    "browser = Browser(\"chrome\", **executable_path, headless=False)"
   ]
  },
  {
   "cell_type": "code",
   "execution_count": 4,
   "id": "8a75021c",
   "metadata": {},
   "outputs": [
    {
     "data": {
      "application/javascript": [
       "\n",
       "            setTimeout(function() {\n",
       "                var nbb_cell_id = 4;\n",
       "                var nbb_unformatted_code = \"url = 'https://www.yelp.com/search?find_desc=Restaurants&find_loc=Georgia%20Tech%2C%20Atlanta%2C%20GA&ns=1&l=g%3A-84.41276550292969%2C33.76816006007425%2C-84.38718795776367%2C33.78956253387451'\\nbrowser.visit(url)\\nhtml = browser.html\\nsoup = BeautifulSoup(html, 'html.parser')\";\n",
       "                var nbb_formatted_code = \"url = \\\"https://www.yelp.com/search?find_desc=Restaurants&find_loc=Georgia%20Tech%2C%20Atlanta%2C%20GA&ns=1&l=g%3A-84.41276550292969%2C33.76816006007425%2C-84.38718795776367%2C33.78956253387451\\\"\\nbrowser.visit(url)\\nhtml = browser.html\\nsoup = BeautifulSoup(html, \\\"html.parser\\\")\";\n",
       "                var nbb_cells = Jupyter.notebook.get_cells();\n",
       "                for (var i = 0; i < nbb_cells.length; ++i) {\n",
       "                    if (nbb_cells[i].input_prompt_number == nbb_cell_id) {\n",
       "                        if (nbb_cells[i].get_text() == nbb_unformatted_code) {\n",
       "                             nbb_cells[i].set_text(nbb_formatted_code);\n",
       "                        }\n",
       "                        break;\n",
       "                    }\n",
       "                }\n",
       "            }, 500);\n",
       "            "
      ],
      "text/plain": [
       "<IPython.core.display.Javascript object>"
      ]
     },
     "metadata": {},
     "output_type": "display_data"
    }
   ],
   "source": [
    "url = \"https://www.yelp.com/search?find_desc=Restaurants&find_loc=Georgia%20Tech%2C%20Atlanta%2C%20GA&ns=1&l=g%3A-84.41276550292969%2C33.76816006007425%2C-84.38718795776367%2C33.78956253387451\"\n",
    "browser.visit(url)\n",
    "html = browser.html\n",
    "soup = BeautifulSoup(html, \"html.parser\")"
   ]
  },
  {
   "cell_type": "code",
   "execution_count": 7,
   "id": "050a7064",
   "metadata": {},
   "outputs": [
    {
     "name": "stdout",
     "output_type": "stream",
     "text": [
      "end of the list\n"
     ]
    },
    {
     "data": {
      "text/plain": [
       "[{'name': 'Moe’s Southwest Grill',\n",
       "  'reviewer': None,\n",
       "  'price': None,\n",
       "  'restauran_type': None,\n",
       "  'star': None},\n",
       " {'name': 'QDOBA Mexican Eats',\n",
       "  'reviewer': '5',\n",
       "  'price': None,\n",
       "  'restauran_type': None,\n",
       "  'star': '3 star rating'},\n",
       " {'name': '1.\\xa0Food Terminal - Atlanta',\n",
       "  'reviewer': '172',\n",
       "  'price': '$$',\n",
       "  'restauran_type': None,\n",
       "  'star': '4.5 star rating'},\n",
       " {'name': '2.\\xa0There on Fifth',\n",
       "  'reviewer': '39',\n",
       "  'price': None,\n",
       "  'restauran_type': None,\n",
       "  'star': '5 star rating'},\n",
       " {'name': '3.\\xa0Rock Steady - Atlanta',\n",
       "  'reviewer': '196',\n",
       "  'price': '$$',\n",
       "  'restauran_type': None,\n",
       "  'star': '4 star rating'},\n",
       " {'name': '4.\\xa0The Optimist',\n",
       "  'reviewer': '1762',\n",
       "  'price': None,\n",
       "  'restauran_type': None,\n",
       "  'star': '4.5 star rating'},\n",
       " {'name': '5.\\xa0Choong Man Chicken - Georgia Tech',\n",
       "  'reviewer': '51',\n",
       "  'price': None,\n",
       "  'restauran_type': None,\n",
       "  'star': '4 star rating'},\n",
       " {'name': '6.\\xa0Velvet Taco',\n",
       "  'reviewer': '51',\n",
       "  'price': None,\n",
       "  'restauran_type': None,\n",
       "  'star': '4.5 star rating'},\n",
       " {'name': '7.\\xa0Pijiu Belly',\n",
       "  'reviewer': '441',\n",
       "  'price': None,\n",
       "  'restauran_type': None,\n",
       "  'star': '4 star rating'},\n",
       " {'name': '8.\\xa0Forza Storico',\n",
       "  'reviewer': '221',\n",
       "  'price': None,\n",
       "  'restauran_type': None,\n",
       "  'star': '4 star rating'},\n",
       " {'name': '9.\\xa0McCray’s Tavern Midtown',\n",
       "  'reviewer': '174',\n",
       "  'price': None,\n",
       "  'restauran_type': None,\n",
       "  'star': '4 star rating'},\n",
       " {'name': '10.\\xa0bartaco',\n",
       "  'reviewer': '1302',\n",
       "  'price': '$$',\n",
       "  'restauran_type': None,\n",
       "  'star': '4 star rating'},\n",
       " {'name': 'Firehouse Subs',\n",
       "  'reviewer': '63',\n",
       "  'price': None,\n",
       "  'restauran_type': None,\n",
       "  'star': '3.5 star rating'}]"
      ]
     },
     "execution_count": 7,
     "metadata": {},
     "output_type": "execute_result"
    },
    {
     "data": {
      "application/javascript": [
       "\n",
       "            setTimeout(function() {\n",
       "                var nbb_cell_id = 7;\n",
       "                var nbb_unformatted_code = \"import time\\n\\nresult = []\\nwhile True:\\n    eles = soup.find_all(\\n        \\\"div\\\", class_=[\\\"container__09f24__sxa9-\\\", \\\"hoverable__09f24__3HkY2\\\"]\\n    )\\n    for ele in eles:\\n        name = ele.find_all(\\\"div\\\", class_=\\\"businessName__09f24__3Ml2X\\\")[0].text\\n        reviewer = None\\n        price = None\\n        restauran_type = None\\n        star = None\\n\\n        try:\\n            reviewer = ele.find_all(\\n                \\\"span\\\", class_=\\\"reviewCount__09f24__3GsGY css-e81eai\\\"\\n            )[0].text\\n        except:\\n            pass\\n\\n        try:\\n            price = ele.find_all(\\\"span\\\", class_=\\\"priceRange__09f24__2GspP css-e81eai\\\")[\\n                0\\n            ].text\\n        except:\\n            pass\\n\\n        try:\\n            types = ele.find_all(\\\"p\\\", class_=[\\\"text__09f24__2NHRu\\\", \\\"css-1hx6l2b\\\"])\\n            l = len(types)\\n            for i in l:\\n                restauran_type.append(types[i])\\n        except:\\n            pass\\n\\n        try:\\n            star = ele.find_all(\\\"div\\\", class_=\\\"i-stars__09f24___sZu0\\\")[0][\\\"aria-label\\\"]\\n        except:\\n            pass\\n        result.append(\\n            {\\n                \\\"name\\\": name,\\n                \\\"reviewer\\\": reviewer,\\n                \\\"price\\\": price,\\n                \\\"restauran_type\\\": restauran_type,\\n                \\\"star\\\": star,\\n            }\\n        )\\n    try:\\n        time.sleep(1)\\n        browser.find_by_css(\\n            \\\".next-link.navigation-button__09f24__1EzzD.css-166la90\\\"\\n        ).click()\\n    except:\\n        print(\\\"end of the list\\\")\\n        break\\nresult\";\n",
       "                var nbb_formatted_code = \"import time\\n\\nresult = []\\nwhile True:\\n    eles = soup.find_all(\\n        \\\"div\\\", class_=[\\\"container__09f24__sxa9-\\\", \\\"hoverable__09f24__3HkY2\\\"]\\n    )\\n    for ele in eles:\\n        name = ele.find_all(\\\"div\\\", class_=\\\"businessName__09f24__3Ml2X\\\")[0].text\\n        reviewer = None\\n        price = None\\n        restauran_type = None\\n        star = None\\n\\n        try:\\n            reviewer = ele.find_all(\\n                \\\"span\\\", class_=\\\"reviewCount__09f24__3GsGY css-e81eai\\\"\\n            )[0].text\\n        except:\\n            pass\\n\\n        try:\\n            price = ele.find_all(\\\"span\\\", class_=\\\"priceRange__09f24__2GspP css-e81eai\\\")[\\n                0\\n            ].text\\n        except:\\n            pass\\n\\n        try:\\n            types = ele.find_all(\\\"p\\\", class_=[\\\"text__09f24__2NHRu\\\", \\\"css-1hx6l2b\\\"])\\n            l = len(types)\\n            for i in l:\\n                restauran_type.append(types[i])\\n        except:\\n            pass\\n\\n        try:\\n            star = ele.find_all(\\\"div\\\", class_=\\\"i-stars__09f24___sZu0\\\")[0][\\\"aria-label\\\"]\\n        except:\\n            pass\\n        result.append(\\n            {\\n                \\\"name\\\": name,\\n                \\\"reviewer\\\": reviewer,\\n                \\\"price\\\": price,\\n                \\\"restauran_type\\\": restauran_type,\\n                \\\"star\\\": star,\\n            }\\n        )\\n    try:\\n        time.sleep(1)\\n        browser.find_by_css(\\n            \\\".next-link.navigation-button__09f24__1EzzD.css-166la90\\\"\\n        ).click()\\n    except:\\n        print(\\\"end of the list\\\")\\n        break\\nresult\";\n",
       "                var nbb_cells = Jupyter.notebook.get_cells();\n",
       "                for (var i = 0; i < nbb_cells.length; ++i) {\n",
       "                    if (nbb_cells[i].input_prompt_number == nbb_cell_id) {\n",
       "                        if (nbb_cells[i].get_text() == nbb_unformatted_code) {\n",
       "                             nbb_cells[i].set_text(nbb_formatted_code);\n",
       "                        }\n",
       "                        break;\n",
       "                    }\n",
       "                }\n",
       "            }, 500);\n",
       "            "
      ],
      "text/plain": [
       "<IPython.core.display.Javascript object>"
      ]
     },
     "metadata": {},
     "output_type": "display_data"
    }
   ],
   "source": [
    "import time\n",
    "\n",
    "result = []\n",
    "while True:\n",
    "    eles = soup.find_all(\n",
    "        \"div\", class_=[\"container__09f24__sxa9-\", \"hoverable__09f24__3HkY2\"]\n",
    "    )\n",
    "    for ele in eles:\n",
    "        name = ele.find_all(\"div\", class_=\"businessName__09f24__3Ml2X\")[0].text\n",
    "        reviewer = None\n",
    "        price = None\n",
    "        restauran_type = None\n",
    "        star = None\n",
    "\n",
    "        try:\n",
    "            reviewer = ele.find_all(\n",
    "                \"span\", class_=\"reviewCount__09f24__3GsGY css-e81eai\"\n",
    "            )[0].text\n",
    "        except:\n",
    "            pass\n",
    "\n",
    "        try:\n",
    "            price = ele.find_all(\"span\", class_=\"priceRange__09f24__2GspP css-e81eai\")[\n",
    "                0\n",
    "            ].text\n",
    "        except:\n",
    "            pass\n",
    "\n",
    "        try:\n",
    "            types = ele.find_all(\"p\", class_=[\"text__09f24__2NHRu\", \"css-1hx6l2b\"])\n",
    "            l = len(types)\n",
    "            for i in l:\n",
    "                restauran_type.append(types[i])\n",
    "        except:\n",
    "            pass\n",
    "\n",
    "        try:\n",
    "            star = ele.find_all(\"div\", class_=\"i-stars__09f24___sZu0\")[0][\"aria-label\"]\n",
    "        except:\n",
    "            pass\n",
    "        result.append(\n",
    "            {\n",
    "                \"name\": name,\n",
    "                \"reviewer\": reviewer,\n",
    "                \"price\": price,\n",
    "                \"restauran_type\": restauran_type,\n",
    "                \"star\": star,\n",
    "            }\n",
    "        )\n",
    "    try:\n",
    "        time.sleep(1)\n",
    "        browser.find_by_css(\n",
    "            \".next-link.navigation-button__09f24__1EzzD.css-166la90\"\n",
    "        ).click()\n",
    "    except:\n",
    "        print(\"end of the list\")\n",
    "        break\n",
    "result"
   ]
  },
  {
   "cell_type": "code",
   "execution_count": null,
   "id": "a5a342f1",
   "metadata": {},
   "outputs": [],
   "source": []
  }
 ],
 "metadata": {
  "kernelspec": {
   "display_name": "Python 3",
   "language": "python",
   "name": "python3"
  },
  "language_info": {
   "codemirror_mode": {
    "name": "ipython",
    "version": 3
   },
   "file_extension": ".py",
   "mimetype": "text/x-python",
   "name": "python",
   "nbconvert_exporter": "python",
   "pygments_lexer": "ipython3",
   "version": "3.8.8"
  }
 },
 "nbformat": 4,
 "nbformat_minor": 5
}
